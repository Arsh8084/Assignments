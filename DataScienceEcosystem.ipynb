{
 "cells": [
  {
   "cell_type": "markdown",
   "id": "d38fca6c-f5a8-4f4d-98f5-a1a8a8dee639",
   "metadata": {},
   "source": [
    "# Data Science Tools and Ecosystem"
   ]
  },
  {
   "cell_type": "markdown",
   "id": "d533522f-509c-4b96-9fae-0e424786a464",
   "metadata": {},
   "source": [
    "In this notebook, Data Science Tools and Ecosystem are summarized"
   ]
  },
  {
   "cell_type": "markdown",
   "id": "5f31e0e5-f1c7-4ec1-9dc5-74cf40e2f6e7",
   "metadata": {},
   "source": [
    "### Obkiectives:\n",
    "\n",
    "    *List of popular languages for Data Science\n",
    "    *List of commonly used libraries by Data Scienstist\n",
    "    *Some arithmetics expressions using python"
   ]
  },
  {
   "attachments": {},
   "cell_type": "markdown",
   "id": "2b997009-3b88-4840-af62-9a274f8a48f2",
   "metadata": {},
   "source": [
    "Some of the popular languages that Data Scientists use are:\n",
    "\n",
    "    1.Python\n",
    "    2.R\n",
    "    3.SQL"
   ]
  },
  {
   "cell_type": "markdown",
   "id": "aa0fc923-eb9c-4e01-ac58-a7dc919c3758",
   "metadata": {},
   "source": [
    "Some of the commonly used libraries used by Data Scientists include:\n",
    "\n",
    "    1.mapplotlip\n",
    "    2.ggplot\n",
    "    3.GGally"
   ]
  },
  {
   "cell_type": "markdown",
   "id": "143b434e-9e1b-41db-82f5-91510c0280a9",
   "metadata": {},
   "source": [
    "\n",
    "| Data Science Tools |\n",
    "|--------------------|\n",
    "|       MySQL        |\n",
    "|       Kafka        |\n",
    "|      PyTorch       |\n"
   ]
  },
  {
   "cell_type": "markdown",
   "id": "bfe73ada-1663-42df-ada2-59e8b868862f",
   "metadata": {},
   "source": [
    "### Below are a few examples of evaluating arithmetic expressions in Python"
   ]
  },
  {
   "cell_type": "code",
   "execution_count": 2,
   "id": "25dec583-7d13-4012-8e4e-7bb66aaf8737",
   "metadata": {},
   "outputs": [
    {
     "name": "stdout",
     "output_type": "stream",
     "text": [
      "17\n"
     ]
    }
   ],
   "source": [
    "#This a simple arithmetic expression to multiply then add intigers\n",
    "print((3*4)+5)"
   ]
  },
  {
   "cell_type": "code",
   "execution_count": 4,
   "id": "e486ba9c-df92-420a-9fbc-3ca995634abb",
   "metadata": {},
   "outputs": [
    {
     "name": "stdout",
     "output_type": "stream",
     "text": [
      "hours: 3.3333333333333335\n"
     ]
    }
   ],
   "source": [
    "#This will convert 200 minutes to hours by dividing by 60\n",
    "minutes = 200\n",
    "hours = minutes / 60\n",
    "print(\"hours:\", hours)"
   ]
  },
  {
   "cell_type": "markdown",
   "id": "eb190648-fadc-470c-ac94-c8fb00c5b4df",
   "metadata": {},
   "source": [
    "## Author\n",
    "Arshak P T"
   ]
  }
 ],
 "metadata": {
  "kernelspec": {
   "display_name": "Python [conda env:base] *",
   "language": "python",
   "name": "conda-base-py"
  },
  "language_info": {
   "codemirror_mode": {
    "name": "ipython",
    "version": 3
   },
   "file_extension": ".py",
   "mimetype": "text/x-python",
   "name": "python",
   "nbconvert_exporter": "python",
   "pygments_lexer": "ipython3",
   "version": "3.12.7"
  }
 },
 "nbformat": 4,
 "nbformat_minor": 5
}
